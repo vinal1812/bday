{
  "nbformat": 4,
  "nbformat_minor": 0,
  "metadata": {
    "colab": {
      "provenance": [],
      "authorship_tag": "ABX9TyNcMwy6dOp2TQKix4xBLY4M",
      "include_colab_link": true
    },
    "kernelspec": {
      "name": "python3",
      "display_name": "Python 3"
    },
    "language_info": {
      "name": "python"
    }
  },
  "cells": [
    {
      "cell_type": "markdown",
      "metadata": {
        "id": "view-in-github",
        "colab_type": "text"
      },
      "source": [
        "<a href=\"https://colab.research.google.com/github/vinal1812/bday/blob/main/rule_baed_bot_demo.ipynb\" target=\"_parent\"><img src=\"https://colab.research.google.com/assets/colab-badge.svg\" alt=\"Open In Colab\"/></a>"
      ]
    },
    {
      "cell_type": "code",
      "execution_count": 1,
      "metadata": {
        "id": "4-ldcf8zqxKK"
      },
      "outputs": [],
      "source": [
        "import re\n",
        "import random"
      ]
    },
    {
      "cell_type": "code",
      "source": [
        "class RuleBot:\n",
        "  ### Pontential Negavtive Response\n",
        "  negative_responses = (\"no\", \"nope\", \"nah\", \"naw\", \"not a chance\", \"sorry\")\n",
        "  ### Exit conversation keywords\n",
        "  exit_commands = (\"quit\", \"pause\", \"exit\", \"goodbye\", \"bye\", \"later\")\n",
        "  ### Random starter question\n",
        "  random_questions = (\n",
        "         \"Why are you here?\",\n",
        "         \"Are there many humans like you\",\n",
        "         \"what do you consume for sustenance?\",\n",
        "         \"Is there intelligent life on this planet?\",\n",
        "         \"Dose earth have you visited?\",\n",
        "         \"what planents have you visited?\",\n",
        "         \"What technology do you have on this planet?\"\n",
        "  )\n",
        "\n",
        "  def __init__(self):\n",
        "    self.alienbabble = {'describe_planet_intent': r'.*\\s*your planet.*',\n",
        "                             'answer-why-intent': r'why\\sar.*',\n",
        "                             'about_intellipat': r'.*\\s*intellipaat'\n",
        "                             }\n",
        "  def greet(self):\n",
        "        self.name = input(\"what is your name?\\n\")\n",
        "        will_help = input(\n",
        "            f\"Hi{self.name}, I am rule_bot. Will you help me lear about your planet?\\n\")\n",
        "        if will_help in self.negative_responses:\n",
        "            print(\"ok, have a nice earth day!\")\n",
        "            return\n",
        "        self.chat()\n",
        "\n",
        "  def make_exit(self, reply):\n",
        "      for command in self.exit_commands:\n",
        "          if reply == command:\n",
        "              print(\"Okay, have a nice earth day\")\n",
        "              return True\n",
        "\n",
        "  def chat(self):\n",
        "    reply = input(random.choice(self.ramdom_question())).lower()\n",
        "    while not self.make_exit(reply):\n",
        "       reply = input(self.match_reply(reply))\n",
        "\n",
        "  def match_reply(self, reply):\n",
        "      for key, value in self.alienbabble.item():\n",
        "          intent = key\n",
        "          regex_pattern = value\n",
        "          found_match = re.match(regex_pattern, reply)\n",
        "          if found_match and intent == 'describe_planet_intent':\n",
        "              return self.describe_planet_intent()\n",
        "          elif found_match and intent == 'answer_why_intent':\n",
        "              return self.answer_why_intent()\n",
        "          elif found_match and intent == 'about_intellipat':\n",
        "              return self.about_intellipat()\n",
        "      if not found_match:\n",
        "          return self.no_match_intent()\n",
        "\n",
        "  def describe_planet_intent(self):\n",
        "     responses = (\"My planet is a utopia of diverse organisms and species.\\n\",\n",
        "                  \"I am from opidipus, the capital of the wayward galaxies.\\n\")\n",
        "     return random.choice(responses)\n",
        "\n",
        "  def answer_why_intent(self):\n",
        "    responses = (\"I come in peace\\n\", \"I am here to collect data on your plant and its inhabitants\\n\",\n",
        "               \"I heard the coffee is good\\n\")\n",
        "    return random.choice(responses)\n",
        "\n",
        "  def about_intellipat(self):\n",
        "    responses = (\"Intellipaat is world's largest prsfessional educational company\\n\", \"Intellipaat will make you learn concepts in the way never\"\n",
        "                \"Intellipaat is where your career and skill grows\\n\")\n",
        "    return random.choice(responses)\n",
        "\n",
        "  def no_match_intent(self):\n",
        "    responses = (\n",
        "        \"Please tell me more.\\n\", \"Tell me more!\\n\", \"why do you say that?\\n\", \"I see. CAn you eleborate?\\n\",\n",
        "        \"Interesting. Can you tell me more?\\n\", \"I see. How do you think?\\n\", \"why?\\n\",\n",
        "        \"How do you think I feel when you say that?\\n\")\n",
        "    return random.choice(responses)\n",
        "x = RuleBot()\n",
        "x.greet()\n",
        "\n",
        "\n",
        "\n",
        "\n",
        "\n"
      ],
      "metadata": {
        "id": "JZzBkSs8rof4"
      },
      "execution_count": null,
      "outputs": []
    }
  ]
}